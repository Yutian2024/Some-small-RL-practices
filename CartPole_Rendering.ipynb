{
  "nbformat": 4,
  "nbformat_minor": 0,
  "metadata": {
    "colab": {
      "provenance": []
    },
    "kernelspec": {
      "name": "python3",
      "display_name": "Python 3"
    }
  },
  "cells": [
    {
      "cell_type": "code",
      "metadata": {
        "id": "1XDvssQd64Pf"
      },
      "source": [
        "!apt-get install -y xvfb python-opengl > /dev/null 2>&1"
      ],
      "execution_count": null,
      "outputs": []
    },
    {
      "cell_type": "code",
      "source": [
        "!apt-get install -y xvfb"
      ],
      "metadata": {
        "colab": {
          "base_uri": "https://localhost:8080/"
        },
        "id": "UVNmBRdCo05w",
        "outputId": "0fbe25e3-2838-4bb6-aa39-526675b20361"
      },
      "execution_count": null,
      "outputs": [
        {
          "output_type": "stream",
          "name": "stdout",
          "text": [
            "Reading package lists... Done\n",
            "Building dependency tree... Done\n",
            "Reading state information... Done\n",
            "xvfb is already the newest version (2:21.1.4-2ubuntu1.7~22.04.12).\n",
            "0 upgraded, 0 newly installed, 0 to remove and 20 not upgraded.\n"
          ]
        }
      ]
    },
    {
      "cell_type": "code",
      "metadata": {
        "id": "F5esgX013vPe"
      },
      "source": [
        "!pip install gym pyvirtualdisplay > /dev/null 2>&1"
      ],
      "execution_count": null,
      "outputs": []
    },
    {
      "cell_type": "code",
      "metadata": {
        "id": "Qbi2xaFo31Sj"
      },
      "source": [
        "import gym\n",
        "import numpy as np\n",
        "import matplotlib.pyplot as plt\n",
        "from IPython import display as ipythondisplay"
      ],
      "execution_count": null,
      "outputs": []
    },
    {
      "cell_type": "code",
      "metadata": {
        "id": "FGqXqJxoAsHG",
        "colab": {
          "base_uri": "https://localhost:8080/"
        },
        "outputId": "ef889b96-4f3a-4a3b-e90e-7285a5a36f63"
      },
      "source": [
        "from pyvirtualdisplay import Display\n",
        "display = Display(visible=0, size=(400, 300))\n",
        "display.start()"
      ],
      "execution_count": null,
      "outputs": [
        {
          "output_type": "execute_result",
          "data": {
            "text/plain": [
              "<pyvirtualdisplay.display.Display at 0x7cd4be9e9290>"
            ]
          },
          "metadata": {},
          "execution_count": 6
        }
      ]
    },
    {
      "cell_type": "code",
      "metadata": {
        "id": "6L4YayzR4FYj",
        "colab": {
          "base_uri": "https://localhost:8080/",
          "height": 413
        },
        "outputId": "06129273-4858-4360-96d5-42af3fc686f7"
      },
      "source": [
        "import time\n",
        "\n",
        "env = gym.make(\"CartPole-v0\")\n",
        "env.reset()\n",
        "prev_screen = env.render(mode='rgb_array')\n",
        "plt.imshow(prev_screen)\n",
        "\n",
        "for i in range(50000):\n",
        "  action = env.action_space.sample()\n",
        "  print(\"step i\",i,\"action=\",action)\n",
        "  obs, reward, done, info = env.step(action)\n",
        "  print(\"obs=\",obs,\"reward=\",reward,\"done=\",done,\"info=\",info)\n",
        "  screen = env.render(mode='rgb_array')\n",
        "\n",
        "  plt.imshow(screen)\n",
        "\n",
        "  #time.sleep(1)\n",
        "\n",
        "  ipythondisplay.clear_output(wait=True)\n",
        "  ipythondisplay.display(plt.gcf())\n",
        "\n",
        "  if done:\n",
        "    break\n",
        "\n",
        "ipythondisplay.clear_output(wait=True)\n",
        "env.close()\n",
        "print(\"Iterations that were run:\",i)"
      ],
      "execution_count": null,
      "outputs": [
        {
          "output_type": "stream",
          "name": "stdout",
          "text": [
            "Iterations that were run: 22\n"
          ]
        },
        {
          "output_type": "display_data",
          "data": {
            "text/plain": [
              "<Figure size 640x480 with 1 Axes>"
            ],
            "image/png": "[encoded data removed]"
          },
          "metadata": {}
        }
      ]
    },
    {
      "cell_type": "code",
      "source": [
        "'''\n",
        " For Exercise 1, DP in Assignment 1 seems not to be applicable to the CartPole.\n",
        " DP relies on the complete model of the environment (mainly the transition probability), which in the previous assignment is given by env.P[state][action].\n",
        " But it is unknown and difficult to obtain in the CartPole case.\n",
        " Actually, I tried to discretize and modify the code I wrote last time, but there were always errors about index, attribute and so on.\n",
        " So in short, model-free algorithms such as MC suits the CartPole much more better.\n",
        " MC code for Exercise 2 is written below.\n",
        "'''"
      ],
      "metadata": {
        "id": "xigsM6HnNarl"
      },
      "execution_count": null,
      "outputs": []
    },
    {
      "cell_type": "code",
      "source": [
        "# Discretization\n",
        "def discretize_state(state, bins):\n",
        "\n",
        "  cart_pos_bin = np.digitize(state[0], bins[0])\n",
        "  cart_vel_bin = np.digitize(state[1], bins[1])\n",
        "  pole_ang_bin = np.digitize(state[2], bins[2])\n",
        "  pole_vel_bin = np.digitize(state[3], bins[3])\n",
        "\n",
        "  return (cart_pos_bin, cart_vel_bin, pole_ang_bin, pole_vel_bin)\n",
        "\n",
        "bins = [\n",
        "  np.linspace(-2.4, 2.4, 4),     # car position\n",
        "  np.linspace(-2, 2, 8),       # car velocity\n",
        "  np.linspace(-0.2095, 0.2095, 10),  # pole angle\n",
        "  np.linspace(-5, 5, 10)       # pole angular velocity\n",
        "]\n",
        "\n",
        "env = gym.make(\"CartPole-v0\")\n",
        "stateSpaceSize = (len(bins[0])+1, len(bins[1])+1, len(bins[2])+1, len(bins[3])+1)\n",
        "actionSpaceSize = env.action_space.n\n",
        "Q = np.zeros(stateSpaceSize + (actionSpaceSize,))\n",
        "returns, gamma, episodes, epsilon = {}, 0.99, 10000, 0.1\n",
        "\n",
        "for episode in range(episodes):\n",
        "  # Initialization\n",
        "  random_state = discretize_state(env.observation_space.sample(), bins)\n",
        "  random_action = np.random.choice(actionSpaceSize)\n",
        "  episode_data = [(random_state, random_action, 0)]  # (state, action, reward)\n",
        "\n",
        "  state = env.reset()\n",
        "  state = discretize_state(state, bins)\n",
        "  done = False\n",
        "\n",
        "  # Epsilon-greedy policy\n",
        "  while not done:\n",
        "    if np.random.rand() > epsilon:\n",
        "      action = np.argmax(Q[state])\n",
        "    else:\n",
        "      action = np.random.choice(actionSpaceSize)\n",
        "    next_state, reward, done, _ = env.step(action)\n",
        "    next_state = discretize_state(next_state, bins)\n",
        "    episode_data.append((next_state, action, reward))\n",
        "    state = next_state\n",
        "\n",
        "  # First-visit\n",
        "  G = 0\n",
        "  visited = np.zeros(stateSpaceSize + (actionSpaceSize,), dtype=bool)\n",
        "  for t in reversed(range(len(episode_data))):\n",
        "    state, action, reward = episode_data[t]\n",
        "    G = reward + gamma * G\n",
        "    if not visited[state][action]:\n",
        "      visited[state][action] = True\n",
        "      if (state, action) not in returns:\n",
        "        returns[(state, action)] = []\n",
        "      returns[(state, action)].append(G)\n",
        "      Q[state][action] = np.mean(returns[(state, action)])\n",
        "\n",
        "state = env.reset()\n",
        "state = discretize_state(state, bins)\n",
        "done = False\n",
        "i, total_reward = 0, 0\n",
        "while not done:\n",
        "  env.render()\n",
        "  action = np.argmax(Q[state])\n",
        "  print(\"step i\",i,\"action=\",action)\n",
        "  i += 1\n",
        "  state, reward, done, info = env.step(action)\n",
        "  print(\"obs=\",state,\"reward=\",reward,\"done=\",done,\"info=\",info)\n",
        "  screen = env.render(mode='rgb_array')\n",
        "  plt.imshow(screen)\n",
        "  ipythondisplay.clear_output(wait=True)\n",
        "  ipythondisplay.display(plt.gcf())\n",
        "  state = discretize_state(state, bins)\n",
        "  total_reward += reward\n",
        "ipythondisplay.clear_output(wait=True)\n",
        "print('Reward using trained policy:', total_reward)\n",
        "env.close()\n"
      ],
      "metadata": {
        "colab": {
          "base_uri": "https://localhost:8080/",
          "height": 413
        },
        "id": "RJGFGXxyG3t6",
        "outputId": "9e584f66-c9f1-423d-fd68-76f38e21ec39"
      },
      "execution_count": null,
      "outputs": [
        {
          "output_type": "stream",
          "name": "stdout",
          "text": [
            "Reward using trained policy: 49.0\n"
          ]
        },
        {
          "output_type": "display_data",
          "data": {
            "text/plain": [
              "<Figure size 640x480 with 1 Axes>"
            ],
            "image/png": "[encoded data removed]"
          },
          "metadata": {}
        }
      ]
    },
    {
      "cell_type": "markdown",
      "source": [
        "I have followed the process of on-policy first-visit MC control (for epsilon-soft policies) in the above code, including initialization, generating episodes, looping, and epsilon-greedy policy.\n",
        "When we take random actions, the reward is usually around 20.\n",
        "With the help of MC, we can reach 40+ within 10000 episodes.\n",
        "This is of course not enough, as I have divided into 3200 states, the episode number cannot guarantee all states to be visited.\n",
        "More episodes require longer time, but will further improve the performance."
      ],
      "metadata": {
        "id": "MZRgz7vzR6eF"
      }
    }
  ]
}