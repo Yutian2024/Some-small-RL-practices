{
  "nbformat": 4,
  "nbformat_minor": 0,
  "metadata": {
    "colab": {
      "provenance": []
    },
    "kernelspec": {
      "name": "python3",
      "display_name": "Python 3"
    },
    "language_info": {
      "name": "python"
    }
  },
  "cells": [
    {
      "cell_type": "code",
      "source": [
        "!apt-get install -y xvfb python-opengl > /dev/null 2>&1"
      ],
      "metadata": {
        "id": "7bVUjPg-_8Op"
      },
      "execution_count": null,
      "outputs": []
    },
    {
      "cell_type": "code",
      "source": [
        "!sudo apt-get update\n",
        "!sudo apt-get install -y xvfb"
      ],
      "metadata": {
        "colab": {
          "base_uri": "https://localhost:8080/"
        },
        "id": "h4ghUxDl__Qw",
        "outputId": "75a8c114-b8b2-4b87-a84c-072f16dbca62"
      },
      "execution_count": null,
      "outputs": [
        {
          "output_type": "stream",
          "name": "stdout",
          "text": [
            "\r0% [Working]\r            \rHit:1 http://security.ubuntu.com/ubuntu jammy-security InRelease\n",
            "\r0% [Waiting for headers] [Waiting for headers] [Connecting to r2u.stat.illinois\r                                                                               \rHit:2 http://archive.ubuntu.com/ubuntu jammy InRelease\n",
            "\r0% [Waiting for headers] [Waiting for headers] [Connecting to r2u.stat.illinois\r                                                                               \rHit:3 https://cloud.r-project.org/bin/linux/ubuntu jammy-cran40/ InRelease\n",
            "\r0% [Waiting for headers] [Connecting to r2u.stat.illinois.edu (192.17.190.167)]\r                                                                               \rHit:4 http://archive.ubuntu.com/ubuntu jammy-updates InRelease\n",
            "\r0% [Waiting for headers] [Connected to r2u.stat.illinois.edu (192.17.190.167)] \r                                                                               \rHit:5 http://archive.ubuntu.com/ubuntu jammy-backports InRelease\n",
            "Hit:6 https://developer.download.nvidia.com/compute/cuda/repos/ubuntu2204/x86_64  InRelease\n",
            "Get:7 https://r2u.stat.illinois.edu/ubuntu jammy InRelease [6,555 B]\n",
            "Hit:8 https://ppa.launchpadcontent.net/deadsnakes/ppa/ubuntu jammy InRelease\n",
            "Hit:9 https://ppa.launchpadcontent.net/graphics-drivers/ppa/ubuntu jammy InRelease\n",
            "Hit:10 https://ppa.launchpadcontent.net/ubuntugis/ppa/ubuntu jammy InRelease\n",
            "Fetched 6,555 B in 1s (4,944 B/s)\n",
            "Reading package lists... Done\n",
            "W: Skipping acquire of configured file 'main/source/Sources' as repository 'https://r2u.stat.illinois.edu/ubuntu jammy InRelease' does not seem to provide it (sources.list entry misspelt?)\n",
            "Reading package lists... Done\n",
            "Building dependency tree... Done\n",
            "Reading state information... Done\n",
            "xvfb is already the newest version (2:21.1.4-2ubuntu1.7~22.04.13).\n",
            "0 upgraded, 0 newly installed, 0 to remove and 32 not upgraded.\n"
          ]
        }
      ]
    },
    {
      "cell_type": "code",
      "source": [
        "!pip install gym pyvirtualdisplay > /dev/null 2>&1"
      ],
      "metadata": {
        "id": "hqc3X6W8ADUL"
      },
      "execution_count": null,
      "outputs": []
    },
    {
      "cell_type": "code",
      "source": [
        "import gym\n",
        "import numpy as np\n",
        "import matplotlib.pyplot as plt\n",
        "from IPython import display as ipythondisplay\n",
        "from pyvirtualdisplay import Display\n",
        "display = Display(visible=0, size=(400, 300))\n",
        "display.start()"
      ],
      "metadata": {
        "colab": {
          "base_uri": "https://localhost:8080/"
        },
        "id": "nOGXxAPWAKop",
        "outputId": "0e611b70-f330-4041-be7d-7b8c9faaffd8"
      },
      "execution_count": null,
      "outputs": [
        {
          "output_type": "execute_result",
          "data": {
            "text/plain": [
              "<pyvirtualdisplay.display.Display at 0x7fb31e757210>"
            ]
          },
          "metadata": {},
          "execution_count": 6
        }
      ]
    },
    {
      "cell_type": "code",
      "source": [
        "# Discretization\n",
        "def discretize_state(state, bins):\n",
        "\n",
        "  cart_pos_bin = np.digitize(state[0], bins[0])\n",
        "  cart_vel_bin = np.digitize(state[1], bins[1])\n",
        "  pole_ang_bin = np.digitize(state[2], bins[2])\n",
        "  pole_vel_bin = np.digitize(state[3], bins[3])\n",
        "\n",
        "  return (cart_pos_bin, cart_vel_bin, pole_ang_bin, pole_vel_bin)\n",
        "\n",
        "bins = [\n",
        "  np.linspace(-2.4, 2.4, 4),     # car position\n",
        "  np.linspace(-2, 2, 8),       # car velocity\n",
        "  np.linspace(-0.2095, 0.2095, 10),  # pole angle\n",
        "  np.linspace(-5, 5, 10)       # pole angular velocity\n",
        "]"
      ],
      "metadata": {
        "id": "OyOoB-gnUVXu"
      },
      "execution_count": null,
      "outputs": []
    },
    {
      "cell_type": "code",
      "source": [
        "# on-policy SARSA\n",
        "env = gym.make(\"CartPole-v0\")\n",
        "stateSpaceSize = (len(bins[0])+1, len(bins[1])+1, len(bins[2])+1, len(bins[3])+1)\n",
        "actionSpaceSize = env.action_space.n\n",
        "Q = np.zeros(stateSpaceSize + (actionSpaceSize,))\n",
        "gamma, episodes, alpha, epsilon = 0.99, 10000, 0.1, 0.1\n",
        "\n",
        "for episode in range(episodes):\n",
        "  state = env.reset()\n",
        "  state = discretize_state(state, bins)\n",
        "  done = False\n",
        "\n",
        "  # choose A from S using epsilon-greedy policy derived from Q\n",
        "  if np.random.rand() < epsilon:\n",
        "    action = np.random.choice(actionSpaceSize)\n",
        "  else:\n",
        "    action = np.argmax(Q[state])\n",
        "\n",
        "  while not done:\n",
        "    next_state, reward, done, _ = env.step(action)\n",
        "    next_state = discretize_state(next_state, bins)\n",
        "    # choose A' from S' using epsilon-greedy policy derived from Q (on-policy)\n",
        "    if np.random.rand() < epsilon:\n",
        "      next_action = np.random.choice(actionSpaceSize)\n",
        "    else:\n",
        "      next_action = np.argmax(Q[next_state])\n",
        "    Q[state][action] += alpha * (reward + gamma * Q[next_state][next_action] - Q[state][action])\n",
        "    state, action = next_state, next_action\n",
        "\n",
        "state = env.reset()\n",
        "state = discretize_state(state, bins)\n",
        "done = False\n",
        "i, total_reward = 0, 0\n",
        "while not done:\n",
        "  env.render()\n",
        "  action = np.argmax(Q[state])\n",
        "  print(\"step i\",i,\"action=\",action)\n",
        "  i += 1\n",
        "  state, reward, done, info = env.step(action)\n",
        "  print(\"obs=\",state,\"reward=\",reward,\"done=\",done,\"info=\",info)\n",
        "  screen = env.render(mode='rgb_array')\n",
        "  plt.imshow(screen)\n",
        "  ipythondisplay.clear_output(wait=True)\n",
        "  ipythondisplay.display(plt.gcf())\n",
        "  state = discretize_state(state, bins)\n",
        "  total_reward += reward\n",
        "ipythondisplay.clear_output(wait=True)\n",
        "print('Reward using trained policy:', total_reward)\n",
        "env.close()"
      ],
      "metadata": {
        "colab": {
          "base_uri": "https://localhost:8080/",
          "height": 413
        },
        "id": "H2tEYHdCB_TX",
        "outputId": "881470c2-6da8-464b-c83d-9741182e34cb"
      },
      "execution_count": null,
      "outputs": [
        {
          "output_type": "stream",
          "name": "stdout",
          "text": [
            "Reward using trained policy: 171.0\n"
          ]
        },
        {
          "output_type": "display_data",
          "data": {
            "text/plain": [
              "<Figure size 640x480 with 1 Axes>"
            ],
            "image/png": "[encoded data removed]"
          },
          "metadata": {}
        }
      ]
    },
    {
      "cell_type": "code",
      "source": [
        "# off-policy Q learning\n",
        "env = gym.make(\"CartPole-v0\")\n",
        "stateSpaceSize = (len(bins[0])+1, len(bins[1])+1, len(bins[2])+1, len(bins[3])+1)\n",
        "actionSpaceSize = env.action_space.n\n",
        "# as the initialization of Q can be arbitrary and the terminal state should be zero, here I directly initialize it to be all zero.\n",
        "Q = np.zeros(stateSpaceSize + (actionSpaceSize,))\n",
        "gamma, episodes, alpha, epsilon = 0.99, 10000, 0.1, 0.1\n",
        "\n",
        "for episode in range(episodes):\n",
        "  state = env.reset()\n",
        "  state = discretize_state(state, bins)\n",
        "  done = False\n",
        "\n",
        "  while not done:\n",
        "    if np.random.rand() < epsilon:\n",
        "      action = np.random.choice(actionSpaceSize)\n",
        "    else:\n",
        "      action = np.argmax(Q[state])\n",
        "    next_state, reward, done, _ = env.step(action)\n",
        "    next_state = discretize_state(next_state, bins)\n",
        "    # compute max Q(S') (off-policy Q-learning)\n",
        "    max_next_Q = np.max(Q[next_state])\n",
        "    Q[state][action] += alpha * (reward + gamma * max_next_Q - Q[state][action])\n",
        "    state = next_state\n",
        "\n",
        "state = env.reset()\n",
        "state = discretize_state(state, bins)\n",
        "done = False\n",
        "i, total_reward = 0, 0\n",
        "while not done:\n",
        "  env.render()\n",
        "  action = np.argmax(Q[state])\n",
        "  print(\"step i\",i,\"action=\",action)\n",
        "  i += 1\n",
        "  state, reward, done, info = env.step(action)\n",
        "  print(\"obs=\",state,\"reward=\",reward,\"done=\",done,\"info=\",info)\n",
        "  screen = env.render(mode='rgb_array')\n",
        "  plt.imshow(screen)\n",
        "  ipythondisplay.clear_output(wait=True)\n",
        "  ipythondisplay.display(plt.gcf())\n",
        "  state = discretize_state(state, bins)\n",
        "  total_reward += reward\n",
        "ipythondisplay.clear_output(wait=True)\n",
        "print('Reward using trained policy:', total_reward)\n",
        "env.close()"
      ],
      "metadata": {
        "colab": {
          "base_uri": "https://localhost:8080/",
          "height": 413
        },
        "id": "50cKs2zPVcUN",
        "outputId": "d0fd8e1a-6bff-4b80-9012-7a20ae436bc1"
      },
      "execution_count": null,
      "outputs": [
        {
          "output_type": "stream",
          "name": "stdout",
          "text": [
            "Reward using trained policy: 174.0\n"
          ]
        },
        {
          "output_type": "display_data",
          "data": {
            "text/plain": [
              "<Figure size 640x480 with 1 Axes>"
            ],
            "image/png": "[encoded data removed]"
          },
          "metadata": {}
        }
      ]
    },
    {
      "cell_type": "code",
      "source": [
        "# off-policy Expected SARSA with an epsilon-greedy policy\n",
        "env = gym.make(\"CartPole-v0\")\n",
        "stateSpaceSize = (len(bins[0])+1, len(bins[1])+1, len(bins[2])+1, len(bins[3])+1)\n",
        "actionSpaceSize = env.action_space.n\n",
        "Q = np.zeros(stateSpaceSize + (actionSpaceSize,))\n",
        "gamma, episodes, alpha, epsilon = 0.99, 10000, 0.1, 0.1\n",
        "\n",
        "for episode in range(episodes):\n",
        "  state = env.reset()\n",
        "  state = discretize_state(state, bins)\n",
        "  done = False\n",
        "\n",
        "  while not done:\n",
        "    # epsilon-greedy\n",
        "    if np.random.rand() < epsilon:\n",
        "      action = np.random.choice(actionSpaceSize)\n",
        "    else:\n",
        "      action = np.argmax(Q[state])\n",
        "    next_state, reward, done, _ = env.step(action)\n",
        "    next_state = discretize_state(next_state, bins)\n",
        "    # e-SARSA (off-policy)\n",
        "    expected_Q = 0\n",
        "    for next_action in range(actionSpaceSize):\n",
        "      if next_action == np.argmax(Q[next_state]):\n",
        "        expected_Q += (1 - epsilon + epsilon / actionSpaceSize) * Q[next_state][next_action]\n",
        "      else:\n",
        "        expected_Q += (epsilon / actionSpaceSize) * Q[next_state][next_action]\n",
        "    Q[state][action] += alpha * (reward + gamma * expected_Q - Q[state][action])\n",
        "    state = next_state\n",
        "\n",
        "state = env.reset()\n",
        "state = discretize_state(state, bins)\n",
        "done = False\n",
        "i, total_reward = 0, 0\n",
        "while not done:\n",
        "  env.render()\n",
        "  action = np.argmax(Q[state])\n",
        "  print(\"step i\",i,\"action=\",action)\n",
        "  i += 1\n",
        "  state, reward, done, info = env.step(action)\n",
        "  print(\"obs=\",state,\"reward=\",reward,\"done=\",done,\"info=\",info)\n",
        "  screen = env.render(mode='rgb_array')\n",
        "  plt.imshow(screen)\n",
        "  ipythondisplay.clear_output(wait=True)\n",
        "  ipythondisplay.display(plt.gcf())\n",
        "  state = discretize_state(state, bins)\n",
        "  total_reward += reward\n",
        "ipythondisplay.clear_output(wait=True)\n",
        "print('Reward using trained policy:', total_reward)\n",
        "env.close()"
      ],
      "metadata": {
        "colab": {
          "base_uri": "https://localhost:8080/",
          "height": 413
        },
        "id": "YG9GC8EdIR_X",
        "outputId": "87812fbf-65f1-4633-e669-4b917ac22977"
      },
      "execution_count": null,
      "outputs": [
        {
          "output_type": "stream",
          "name": "stdout",
          "text": [
            "Reward using trained policy: 200.0\n"
          ]
        },
        {
          "output_type": "display_data",
          "data": {
            "text/plain": [
              "<Figure size 640x480 with 1 Axes>"
            ],
            "image/png": "[encoded data removed]"
          },
          "metadata": {}
        }
      ]
    },
    {
      "cell_type": "markdown",
      "source": [
        "After 10,000 episodes, all three methods achieved 170+ rewards.\n",
        "Comparing to the model performances of MC in the previous task (best reward is around 100 after more episodes), TD(0) seems to be a better option for CartPole.\n",
        "From my understanding, that is mainly because MC updates Q after a whole episode while that of TD is step-by-step, which makes the latter more efficient.\n",
        "Among the three methods above, e-SARSA has the best performance of full mark 200.\n",
        "It combines the advantages of both Q-learning and SARSA, which can further improve stability and convergence speed."
      ],
      "metadata": {
        "id": "lADPTGeBRRr9"
      }
    }
  ]
}