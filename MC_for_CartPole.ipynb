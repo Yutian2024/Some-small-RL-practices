{
  "cells": [
    {
      "cell_type": "markdown",
      "metadata": {
        "id": "LmG8WVADJI67"
      },
      "source": [
        "In MC development, the key idea is to estimate the expected return by averaging rewards observed in enough number of episodes. We need to do comparison between the value of different actions given one state to improve the policy. However, V_pi fails to offer enough information and thus it is not useful. We use Q_pi instead, which provides an estimate of the expected return given a specific action."
      ]
    },
    {
      "cell_type": "code",
      "execution_count": null,
      "metadata": {
        "id": "8A6T9RwfCmFT"
      },
      "outputs": [],
      "source": [
        "!apt-get install -y xvfb python-opengl > /dev/null 2>&1"
      ]
    },
    {
      "cell_type": "code",
      "execution_count": null,
      "metadata": {
        "colab": {
          "base_uri": "https://localhost:8080/"
        },
        "id": "9dJ6jQI3CsSm",
        "outputId": "940d76c1-4f58-4c29-fa92-f1819f934172"
      },
      "outputs": [
        {
          "name": "stdout",
          "output_type": "stream",
          "text": [
            "Reading package lists... Done\n",
            "Building dependency tree... Done\n",
            "Reading state information... Done\n",
            "xvfb is already the newest version (2:21.1.4-2ubuntu1.7~22.04.12).\n",
            "0 upgraded, 0 newly installed, 0 to remove and 20 not upgraded.\n"
          ]
        }
      ],
      "source": [
        "!apt-get install -y xvfb"
      ]
    },
    {
      "cell_type": "code",
      "execution_count": null,
      "metadata": {
        "id": "B1wp7EkQCvmL"
      },
      "outputs": [],
      "source": [
        "!pip install gym pyvirtualdisplay > /dev/null 2>&1"
      ]
    },
    {
      "cell_type": "code",
      "execution_count": null,
      "metadata": {
        "colab": {
          "base_uri": "https://localhost:8080/"
        },
        "id": "3XOTxT-jC31z",
        "outputId": "93cce54d-b498-48a2-f04f-0b4d002d7813"
      },
      "outputs": [
        {
          "data": {
            "text/plain": [
              "<pyvirtualdisplay.display.Display at 0x7964d3502ed0>"
            ]
          },
          "execution_count": 5,
          "metadata": {},
          "output_type": "execute_result"
        }
      ],
      "source": [
        "import gym\n",
        "import numpy as np\n",
        "import matplotlib.pyplot as plt\n",
        "from IPython import display as ipythondisplay\n",
        "from pyvirtualdisplay import Display\n",
        "display = Display(visible=0, size=(400, 300))\n",
        "display.start()"
      ]
    },
    {
      "cell_type": "code",
      "execution_count": null,
      "metadata": {
        "colab": {
          "base_uri": "https://localhost:8080/",
          "height": 413
        },
        "id": "sF3HAGFlCQ58",
        "outputId": "5e5227cd-22cb-4525-91d3-22a4cfa525d4"
      },
      "outputs": [
        {
          "output_type": "stream",
          "name": "stdout",
          "text": [
            "Reward using trained policy: 84.0\n"
          ]
        },
        {
          "output_type": "display_data",
          "data": {
            "text/plain": [
              "<Figure size 640x480 with 1 Axes>"
            ],
            "image/png": "[encoded data removed]"
          },
          "metadata": {}
        }
      ],
      "source": [
        "# Discretization\n",
        "def discretize_state(state, bins):\n",
        "\n",
        "  cart_pos_bin = np.digitize(state[0], bins[0])\n",
        "  cart_vel_bin = np.digitize(state[1], bins[1])\n",
        "  pole_ang_bin = np.digitize(state[2], bins[2])\n",
        "  pole_vel_bin = np.digitize(state[3], bins[3])\n",
        "\n",
        "  return (cart_pos_bin, cart_vel_bin, pole_ang_bin, pole_vel_bin)\n",
        "\n",
        "bins = [\n",
        "  np.linspace(-2.4, 2.4, 4),     # car position\n",
        "  np.linspace(-2, 2, 8),       # car velocity\n",
        "  np.linspace(-0.2095, 0.2095, 10),  # pole angle\n",
        "  np.linspace(-5, 5, 10)       # pole angular velocity\n",
        "]\n",
        "\n",
        "# Initialization\n",
        "env = gym.make(\"CartPole-v0\")\n",
        "stateSpaceSize = (len(bins[0])+1, len(bins[1])+1, len(bins[2])+1, len(bins[3])+1)\n",
        "actionSpaceSize = env.action_space.n\n",
        "Q, C = np.zeros(stateSpaceSize + (actionSpaceSize,)), np.zeros(stateSpaceSize + (actionSpaceSize,))\n",
        "gamma, episodes = 0.99, 1000000\n",
        "\n",
        "for episode in range(episodes):\n",
        "  state = env.reset()\n",
        "  state = discretize_state(state, bins)\n",
        "  trajectory = []\n",
        "  done = False\n",
        "\n",
        "  while not done:\n",
        "    action = np.random.choice(actionSpaceSize)\n",
        "    next_state, reward, done, _ = env.step(action)\n",
        "    next_state = discretize_state(next_state, bins)\n",
        "    trajectory.append((state, action, reward))\n",
        "    state = next_state\n",
        "\n",
        "  # Importance sampling\n",
        "  G, W = 0, 1\n",
        "  for t in reversed(range(len(trajectory))):\n",
        "    state, action, reward = trajectory[t]\n",
        "    G = gamma * G + reward\n",
        "    C[state][action] += W\n",
        "    Q[state][action] += (W / C[state][action]) * (G - Q[state][action])\n",
        "    if action != np.argmax(Q[state]):\n",
        "      break\n",
        "    W *= 1 / (1 / actionSpaceSize)\n",
        "\n",
        "state = env.reset()\n",
        "state = discretize_state(state, bins)\n",
        "done = False\n",
        "i, total_reward = 0, 0\n",
        "while not done:\n",
        "  env.render()\n",
        "  action = np.argmax(Q[state])\n",
        "  print(\"step i\",i,\"action=\",action)\n",
        "  i += 1\n",
        "  state, reward, done, info = env.step(action)\n",
        "  print(\"obs=\",state,\"reward=\",reward,\"done=\",done,\"info=\",info)\n",
        "  screen = env.render(mode='rgb_array')\n",
        "  plt.imshow(screen)\n",
        "  ipythondisplay.clear_output(wait=True)\n",
        "  ipythondisplay.display(plt.gcf())\n",
        "  state = discretize_state(state, bins)\n",
        "  total_reward += reward\n",
        "ipythondisplay.clear_output(wait=True)\n",
        "print('Reward using trained policy:', total_reward)\n",
        "env.close()\n"
      ]
    },
    {
      "cell_type": "markdown",
      "source": [
        "Algorithm for MC Control (Off Policy) is coded above.\n",
        "I runned the code starting from 100,000 episodes, and the reward grows steadily from 40+.\n",
        "After 1,000,000 episodes (which takes approximately half an hour), the reward we can achieve is close to 100.\n",
        "There is still a huge gap between this result and our goal (balance it indefinitely), but I think with more episodes and discretization to be better tuned, we can finally reach that goal."
      ],
      "metadata": {
        "id": "4OCFWt7OScKG"
      }
    }
  ],
  "metadata": {
    "colab": {
      "provenance": []
    },
    "kernelspec": {
      "display_name": "Python 3",
      "name": "python3"
    },
    "language_info": {
      "name": "python"
    }
  },
  "nbformat": 4,
  "nbformat_minor": 0
}